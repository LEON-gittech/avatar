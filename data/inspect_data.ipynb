{
 "cells": [
  {
   "cell_type": "code",
   "execution_count": 1,
   "metadata": {},
   "outputs": [],
   "source": [
    "import os\n",
    "import sys\n",
    "import json\n",
    "from collections import defaultdict\n",
    "from typing import Dict, Any, List\n",
    "\n",
    "import numpy as np\n",
    "from tqdm import tqdm\n",
    "from stark_qa import load_qa, load_skb"
   ]
  },
  {
   "cell_type": "code",
   "execution_count": 2,
   "metadata": {},
   "outputs": [
    {
     "name": "stdout",
     "output_type": "stream",
     "text": [
      "Loading from /home/tiger/.cache/huggingface/hub/datasets--snap-stanford--stark/snapshots/88269e23e90587f99476c5dd74e235a0877e69be/skb/amazon/processed!\n",
      "Loading cached graph with meta link types ['brand', 'category', 'color']\n"
     ]
    }
   ],
   "source": [
    "amazon_kb = load_skb('amazon')"
   ]
  },
  {
   "cell_type": "code",
   "execution_count": 4,
   "metadata": {},
   "outputs": [
    {
     "name": "stdout",
     "output_type": "stream",
     "text": [
      "dict_keys(['root', 'max_entries', 'sub_category_path', 'raw_data_dir', 'processed_data_dir', 'node_info', 'edge_index', 'edge_type_dict', 'node_type_dict', 'node_types', 'edge_types', 'candidate_ids', 'num_candidates', 'sparse_adj', 'sparse_adj_by_type'])\n",
      "1035542\n"
     ]
    }
   ],
   "source": [
    "# print(type(amazon_kb))\n",
    "# print(amazon_kb[0])\n",
    "print(amazon_kb.__dict__.keys())\n",
    "print(len(amazon_kb))"
   ]
  },
  {
   "cell_type": "code",
   "execution_count": null,
   "metadata": {},
   "outputs": [],
   "source": []
  }
 ],
 "metadata": {
  "kernelspec": {
   "display_name": "avatar",
   "language": "python",
   "name": "python3"
  },
  "language_info": {
   "codemirror_mode": {
    "name": "ipython",
    "version": 3
   },
   "file_extension": ".py",
   "mimetype": "text/x-python",
   "name": "python",
   "nbconvert_exporter": "python",
   "pygments_lexer": "ipython3",
   "version": "3.11.10"
  }
 },
 "nbformat": 4,
 "nbformat_minor": 2
}
